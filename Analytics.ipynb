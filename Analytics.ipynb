{
 "cells": [
  {
   "cell_type": "markdown",
   "id": "07d4e7d5",
   "metadata": {},
   "source": [
    "Ac/As = Pi*r^2 \n",
    "    = Pi/4\n",
    "    \n",
    "confidence_interval_95 = Mean +- 1.96 * (std/sqrt(m))  \n",
    "np.mean(pi_list)"
   ]
  },
  {
   "cell_type": "code",
   "execution_count": 19,
   "id": "2284af87",
   "metadata": {},
   "outputs": [],
   "source": [
    "import random \n",
    "import pandas as pd\n",
    "import seaborn as sn \n",
    "import matplotlib as plt\n",
    "import matplotlib.pyplot as plt\n",
    "import numpy as np\n",
    "import statistics\n",
    "from numpy import asarray, exp\n",
    "from numpy.random import randn, rand, seed\n",
    "from matplotlib import pyplot\n",
    "from pulp import LpVariable, LpProblem, LpMaximize, LpStatus, value, LpMinimize\n",
    "from scipy.stats import norm"
   ]
  },
  {
   "cell_type": "code",
   "execution_count": 20,
   "id": "15fd3f3d",
   "metadata": {},
   "outputs": [
    {
     "name": "stdout",
     "output_type": "stream",
     "text": [
      "the value of x is 0.6949913110629646\n",
      "the value of y is -0.9478477940950509\n",
      "0.6949913110629646 -0.9478477940950509\n"
     ]
    }
   ],
   "source": [
    "#Problem 1\n",
    "x = random.uniform(-1,1)\n",
    "y = random.uniform(-1,1)\n",
    "print(f\"the value of x is {x}\")\n",
    "print(f\"the value of y is {y}\")\n",
    "print(x,y)"
   ]
  },
  {
   "cell_type": "code",
   "execution_count": 21,
   "id": "8293afdd",
   "metadata": {},
   "outputs": [
    {
     "name": "stdout",
     "output_type": "stream",
     "text": [
      "The distance is the sum of x squared and y squared is 1.3814283632238726\n"
     ]
    }
   ],
   "source": [
    "distance = x**2 + y**2\n",
    "print(f\"The distance is the sum of x squared and y squared is {distance}\")"
   ]
  },
  {
   "cell_type": "code",
   "execution_count": 22,
   "id": "2a4a6305",
   "metadata": {},
   "outputs": [
    {
     "name": "stdout",
     "output_type": "stream",
     "text": [
      "Pi estimate is 3.1168 with a standard deviation of 0.01670038158126934\n",
      "Confidence Interval is [3.141560947012137, 3.1444886529878633]\n"
     ]
    }
   ],
   "source": [
    "count = 0 \n",
    "n = 10000\n",
    "m = 500\n",
    "pi_list = []\n",
    "\n",
    "for j in range(m):\n",
    "    count = 0 \n",
    "    \n",
    "    for i in range(n):\n",
    "        x = random.uniform(-1,1)\n",
    "        y = random.uniform(-1,1)\n",
    "        distance = np.sqrt(x**2 + y**2)\n",
    "        if distance <= 1:\n",
    "            count = count + 1\n",
    "\n",
    "    count_of_circle = count\n",
    "    count_of_square = n\n",
    "    ratio = count_of_circle/count_of_square\n",
    "    estimate = ratio*4\n",
    "    pi_list.append(estimate)\n",
    "    \n",
    "std = np.std(pi_list)    \n",
    "print(f\"Pi estimate is {estimate} with a standard deviation of {np.std(pi_list)}\")\n",
    "c_plus = np.mean(pi_list) + 1.96 * (std/np.sqrt(m))\n",
    "c_minus = np.mean(pi_list) - 1.96 * (std/np.sqrt(m))  \n",
    "c_interval = [c_minus,c_plus]\n",
    "print(f\"Confidence Interval is {c_interval}\")"
   ]
  },
  {
   "cell_type": "code",
   "execution_count": 23,
   "id": "3353e99c",
   "metadata": {},
   "outputs": [
    {
     "data": {
      "text/plain": [
       "<matplotlib.collections.PolyCollection at 0x7f9b9bc1a040>"
      ]
     },
     "execution_count": 23,
     "metadata": {},
     "output_type": "execute_result"
    },
    {
     "data": {
      "image/png": "[encoded data removed]",
      "text/plain": [
       "<Figure size 432x288 with 1 Axes>"
      ]
     },
     "metadata": {
      "needs_background": "light"
     },
     "output_type": "display_data"
    }
   ],
   "source": [
    "m_sample = np.random.normal(size=500)\n",
    "confidence_interval = norm(*norm.fit(c_interval)).interval(0.95)  \n",
    "height, bins, patches = plt.hist(m_sample, alpha=0.3)\n",
    "plt.fill_betweenx([0, height.max()], confidence_interval[0], confidence_interval[1], color='y', alpha=0.1)  "
   ]
  },
  {
   "cell_type": "code",
   "execution_count": 24,
   "id": "933e749f",
   "metadata": {},
   "outputs": [
    {
     "name": "stdout",
     "output_type": "stream",
     "text": [
      "Pi estimate is 3.08 with a standard deviation of 0.07195293750779046\n",
      "Confidence Interval is [3.1471650469496297, 3.15977895305037]\n"
     ]
    }
   ],
   "source": [
    "count = 0 \n",
    "n = 500\n",
    "m = 500\n",
    "pi_list = []\n",
    "\n",
    "for j in range(m):\n",
    "    count = 0 \n",
    "    \n",
    "    for i in range(n):\n",
    "        x = random.uniform(-1,1)\n",
    "        y = random.uniform(-1,1)\n",
    "        distance = np.sqrt(x**2 + y**2)\n",
    "        if distance <= 1:\n",
    "            count = count + 1\n",
    "\n",
    "    count_of_circle = count\n",
    "    count_of_square = n\n",
    "    ratio = count_of_circle/count_of_square\n",
    "    estimate = ratio*4\n",
    "    pi_list.append(estimate)\n",
    "    \n",
    "std = np.std(pi_list)    \n",
    "print(f\"Pi estimate is {estimate} with a standard deviation of {np.std(pi_list)}\")\n",
    "c_plus = np.mean(pi_list) + 1.96 * (std/np.sqrt(m))\n",
    "c_minus = np.mean(pi_list) - 1.96 * (std/np.sqrt(m))  \n",
    "c_interval = [c_minus,c_plus]\n",
    "print(f\"Confidence Interval is {c_interval}\")"
   ]
  },
  {
   "cell_type": "code",
   "execution_count": 25,
   "id": "0377ae2b",
   "metadata": {},
   "outputs": [
    {
     "name": "stdout",
     "output_type": "stream",
     "text": [
      "the objective value is 42\n"
     ]
    }
   ],
   "source": [
    "def knapsack(RS, weight, value, n):\n",
    "   \n",
    "   if n == 0 or RS == 0 :\n",
    "      return 0\n",
    "  \n",
    "   if (weight[n-1] > RS):\n",
    "      return knapsack(RS, weight, value, n-1)\n",
    "   \n",
    "   else:\n",
    "      return max(value[n-1] + knapsack(RS-weight[n-1], weight, value, n-1),\n",
    "         knapsack(RS, weight, value, n-1))\n",
    "\n",
    "value = [12,16,22,8] #objective function \n",
    "weight = [4,5,7,3] #constraints\n",
    "RS = 14 #right-hand side\n",
    "n = len(value)\n",
    "print (f'the objective value is {knapsack(RS, weight, value, n)}')"
   ]
  },
  {
   "cell_type": "code",
   "execution_count": 26,
   "id": "a2e9bbbb",
   "metadata": {},
   "outputs": [],
   "source": [
    "x1 = LpVariable(\"BR\", 0, 1, cat = 'Integer')\n",
    "x2 = LpVariable(\"DR\", 0, 1, cat = 'Integer')\n",
    "x3 = LpVariable(\"GC\", 0, 1, cat = 'Integer')\n",
    "x4 = LpVariable(\"Sofa\", 0, 1, cat = 'Integer')\n",
    "\n",
    "\n",
    "prob = LpProblem(\"problem\", LpMaximize)\n",
    "\n",
    "#constraints\n",
    "prob += 4*x1 + 5*x2 + 7*x3 + 3*x4 <= 14\n",
    "\n",
    "#objective function\n",
    "prob += 12*x1 + 16*x2 + 22*x3 + 8*x4\n",
    "\n",
    "def simulation(objective, parameters, iterations, step_size, temperature):\n",
    "    \n",
    "    start = parameters[:, 0] + rand( len( parameters ) ) * ( parameters[:, 1] - parameters[:, 0] )\n",
    "    \n",
    "    start_calc = objective(start)\n",
    "   \n",
    "    assign_start, assign_calc = start, start_calc\n",
    "    outputs = []\n",
    "    for i in range(iterations):\n",
    "        \n",
    "        assign_step = assign_start + randn( len( parameters ) ) * step_size  \n",
    "        assign_calc = objective(assign_start)\n",
    "        if assign_step < assign_calc:\n",
    "            start, start_calc = assign_start, assign_calc\n",
    "      \n",
    "            outputs.append(assign_calc)\n",
    "            print('Acceptance Criteria = %.2f' % metropolis,\" \",'iteration number = ',i,\" \", 'optimizing = ',start,\" \" ,'optimal = %.2f' % assign_calc)\n",
    "        difference = assign_step - assign_calc\n",
    "        t = temperature / float(i + 1)\n",
    "       \n",
    "        metropolis = exp(-difference / t)\n",
    "        \n",
    "        if difference < 0 or rand() < metropolis:\n",
    "            assign_start_point, assign_start_calc = assign_step, assign_calc\n",
    "    return [start, start_calc, outputs]"
   ]
  },
  {
   "cell_type": "code",
   "execution_count": null,
   "id": "93aebcd1",
   "metadata": {},
   "outputs": [],
   "source": []
  }
 ],
 "metadata": {
  "kernelspec": {
   "display_name": "Python 3 (ipykernel)",
   "language": "python",
   "name": "python3"
  },
  "language_info": {
   "codemirror_mode": {
    "name": "ipython",
    "version": 3
   },
   "file_extension": ".py",
   "mimetype": "text/x-python",
   "name": "python",
   "nbconvert_exporter": "python",
   "pygments_lexer": "ipython3",
   "version": "3.9.7"
  }
 },
 "nbformat": 4,
 "nbformat_minor": 5
}
