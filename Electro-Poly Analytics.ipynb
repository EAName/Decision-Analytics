{
 "cells": [
  {
   "cell_type": "markdown",
   "id": "fadbc541",
   "metadata": {},
   "source": [
    "Part 1.\n",
    "\n",
    "Electro-Poly is a leading maker of slip-rings. A $750,000 order has just been received and must be filled.  Constraints in filling the order are based on hours for wiring each unit and hours for harnessing each unit. \n",
    "\n",
    "Model 1\tModel 2\tModel 3\n",
    "# Ordered\t3000\t2000\t900\n",
    "Hours for Wiring / Unit\t2\t1.5\t3\n",
    "Hours of Harnessing / Unit\t1\t2\t1\n",
    "Cost to Make\t50\t83\t130\n",
    "Cost to Buy\t61\t97\t145\n",
    "The company has 10,000 hours of wiring capacity and 5,000 hours of harnessing capacity. It must either make or buy the various models to meet the demand.  Formulate this LP and solve using R, Python, GAMS, or Excel.  Provide your complete code and share with your colleagues."
   ]
  },
  {
   "cell_type": "code",
   "execution_count": 1,
   "id": "3aa73675",
   "metadata": {},
   "outputs": [],
   "source": [
    "# import pulp\n",
    "from pulp import LpVariable, LpProblem, LpMaximize, LpStatus, value, LpMinimize"
   ]
  },
  {
   "cell_type": "code",
   "execution_count": 2,
   "id": "aaacd597",
   "metadata": {},
   "outputs": [],
   "source": [
    "Model1_buy = LpVariable(\"Model1_buy\", 0, None) # Tables>=0\n",
    "Model2_buy = LpVariable(\"Model2_buy\", 0, None) # Chairs>=0\n",
    "Model3_buy = LpVariable(\"Model3_buy\", 0, None) # Chairs>=0\n",
    "Model1_make = LpVariable(\"Model1_make\", 0, None) # Tables>=0\n",
    "Model2_make = LpVariable(\"Model2_make\", 0, None) # Chairs>=0\n",
    "Model3_make = LpVariable(\"Model3_make\", 0, None) # Chairs>=0"
   ]
  },
  {
   "cell_type": "code",
   "execution_count": 3,
   "id": "3cb8032c",
   "metadata": {},
   "outputs": [],
   "source": [
    "# defines the problem\n",
    "prob = LpProblem(\"problem\", LpMaximize)\n",
    "# Note, LpMaximize for a maximization problem, \n",
    "# and LpMinimize for a minimization problem"
   ]
  },
  {
   "cell_type": "code",
   "execution_count": 4,
   "id": "384f56d9",
   "metadata": {},
   "outputs": [],
   "source": [
    "# define constraints\n",
    "prob += 2*Model1_make    +  1.5*Model2_make +3*Model3_make    <= 10000\n",
    "prob += 1*Model1_make    +  2*Model2_make + 1*Model3_make     <= 5000\n",
    "prob += Model1_make + Model1_buy == 3000\n",
    "prob += Model2_make + Model2_buy == 2000\n",
    "prob += Model3_make + Model3_buy == 900\n",
    "# Note, if <= then <=\n",
    "# If >= then >=\n",
    "# If = then =="
   ]
  },
  {
   "cell_type": "code",
   "execution_count": 5,
   "id": "9b8d8ba8",
   "metadata": {},
   "outputs": [],
   "source": [
    "# define objective function\n",
    "prob += 50*Model1_make   + 83*Model2_make + 130*Model3_make + 61*Model1_buy + 97*Model2_buy + 145*Model3_buy"
   ]
  },
  {
   "cell_type": "code",
   "execution_count": 6,
   "id": "a6525d24",
   "metadata": {},
   "outputs": [
    {
     "name": "stdout",
     "output_type": "stream",
     "text": [
      "Problem 1\n",
      "status=Optimal\n"
     ]
    }
   ],
   "source": [
    "# solve the problem\n",
    "status = prob.solve()\n",
    "print(f\"Problem 1\")\n",
    "print(f\"status={LpStatus[status]}\")"
   ]
  },
  {
   "cell_type": "code",
   "execution_count": 7,
   "id": "2f9aacea",
   "metadata": {},
   "outputs": [
    {
     "name": "stdout",
     "output_type": "stream",
     "text": [
      "Model1_buy = 3000.0\n",
      "Model1_make = 0.0\n",
      "Model2_buy = 2000.0\n",
      "Model2_make = 0.0\n",
      "Model3_buy = 900.0\n",
      "Model3_make = 0.0\n"
     ]
    }
   ],
   "source": [
    "# print the results\n",
    "for variable in prob.variables():\n",
    "    print(f\"{variable.name} = {variable.varValue}\")"
   ]
  },
  {
   "cell_type": "code",
   "execution_count": 8,
   "id": "0655ce0e",
   "metadata": {},
   "outputs": [
    {
     "name": "stdout",
     "output_type": "stream",
     "text": [
      "Objective = 507500.0\n",
      "\n"
     ]
    }
   ],
   "source": [
    "print(f\"Objective = {value(prob.objective)}\")\n",
    "print(f\"\")"
   ]
  }
 ],
 "metadata": {
  "kernelspec": {
   "display_name": "Python 3 (ipykernel)",
   "language": "python",
   "name": "python3"
  },
  "language_info": {
   "codemirror_mode": {
    "name": "ipython",
    "version": 3
   },
   "file_extension": ".py",
   "mimetype": "text/x-python",
   "name": "python",
   "nbconvert_exporter": "python",
   "pygments_lexer": "ipython3",
   "version": "3.9.7"
  }
 },
 "nbformat": 4,
 "nbformat_minor": 5
}
