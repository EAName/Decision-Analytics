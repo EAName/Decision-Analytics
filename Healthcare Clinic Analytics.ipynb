{
 "cells": [
  {
   "cell_type": "markdown",
   "id": "4af3f8e0",
   "metadata": {},
   "source": [
    "Part 1. \n",
    "\n",
    "I am setting up a healthcare clinic and need to determine FTE staffing requirements for the providers. I can take fractional FTEs. I will be choosing from primary care physicians (MDs) who average $150K, nurse practitioners (NPs) who average $110K, and physician assistants PAs) who average $100K. \n",
    "\n",
    "I need at least 10 providers to meet demand. \n",
    "I need at least 1.5 NP for each PA.\n",
    "Physicians can only supervise 2 non-physicians (NPs and PAs). \n",
    "\n",
    "\n",
    "Formulate the linear program to meet these requirements.  Because the constraint matrix is square, this problem may be solved by inverting the constraint matrix (if invertible) and multiplying it by the right-hand side parameters.  See if you can do it.  Otherwise, solve the problem by using LPSolve, R, GAMS, or Python.  Provide the objective as well as all the decision variable values. "
   ]
  },
  {
   "cell_type": "code",
   "execution_count": 2,
   "id": "639b91f2",
   "metadata": {},
   "outputs": [],
   "source": [
    "# import pulp\n",
    "from pulp import LpVariable, LpProblem, LpMaximize, LpStatus, value, LpMinimize"
   ]
  },
  {
   "cell_type": "code",
   "execution_count": 3,
   "id": "b046a378",
   "metadata": {},
   "outputs": [],
   "source": [
    "# Problem 1\n",
    "# define variables\n",
    "MD = LpVariable(\"MD\", 0, None) \n",
    "NP = LpVariable(\"NP\", 0, None) \n",
    "PA = LpVariable(\"PA\", 0 ,None) \n",
    "\n"
   ]
  },
  {
   "cell_type": "code",
   "execution_count": 4,
   "id": "5aec198b",
   "metadata": {},
   "outputs": [],
   "source": [
    "# defines the problem\n",
    "prob = LpProblem(\"problem\", LpMinimize)\n",
    "# Note, LpMaximize for a maximization problem, \n",
    "# and LpMinimize for a minimization problem"
   ]
  },
  {
   "cell_type": "code",
   "execution_count": 5,
   "id": "9e3847d0",
   "metadata": {},
   "outputs": [],
   "source": [
    "# define constraints\n",
    "prob += MD + NP + PA >= 10\n",
    "prob += PA*1.5 <= NP  \n",
    "prob += NP <= 2*MD\n",
    "prob += PA <= 2*MD\n",
    "\n"
   ]
  },
  {
   "cell_type": "code",
   "execution_count": 6,
   "id": "c1046c38",
   "metadata": {},
   "outputs": [],
   "source": [
    "# define objective function\n",
    "prob += 150000*MD   + 110000*NP + 100000*PA"
   ]
  },
  {
   "cell_type": "code",
   "execution_count": 7,
   "id": "d7e9dd4c",
   "metadata": {},
   "outputs": [
    {
     "name": "stdout",
     "output_type": "stream",
     "text": [
      "Welcome to the CBC MILP Solver \n",
      "Version: 2.10.3 \n",
      "Build Date: Dec 15 2019 \n",
      "\n",
      "command line - /Users/edwinsalguero/opt/anaconda3/lib/python3.9/site-packages/pulp/apis/../solverdir/cbc/osx/64/cbc /var/folders/8m/hr59h6j137s903vyt2l8hr7r0000gn/T/c12f9686b4a74da1af1c0b216d55bb28-pulp.mps timeMode elapsed branch printingOptions all solution /var/folders/8m/hr59h6j137s903vyt2l8hr7r0000gn/T/c12f9686b4a74da1af1c0b216d55bb28-pulp.sol (default strategy 1)\n",
      "At line 2 NAME          MODEL\n",
      "At line 3 ROWS\n",
      "At line 9 COLUMNS\n",
      "At line 22 RHS\n",
      "At line 27 BOUNDS\n",
      "At line 28 ENDATA\n",
      "Problem MODEL has 4 rows, 3 columns and 9 elements\n",
      "Coin0008I MODEL read with 0 errors\n",
      "Option for timeMode changed from cpu to elapsed\n",
      "Presolve 4 (0) rows, 3 (0) columns and 9 (0) elements\n",
      "0  Obj 0 Primal inf 9.9999999 (1)\n",
      "3  Obj 1161538.5\n",
      "Optimal - objective value 1161538.5\n",
      "Optimal objective 1161538.462 - 3 iterations time 0.002\n",
      "Option for printingOptions changed from normal to all\n",
      "Total time (CPU seconds):       0.00   (Wallclock seconds):       0.01\n",
      "\n",
      "Problem 1\n",
      "status=Optimal\n"
     ]
    }
   ],
   "source": [
    "# solve the problem\n",
    "status = prob.solve()\n",
    "print(f\"Problem 1\")\n",
    "print(f\"status={LpStatus[status]}\")"
   ]
  },
  {
   "cell_type": "code",
   "execution_count": 8,
   "id": "d28d18a2",
   "metadata": {},
   "outputs": [
    {
     "name": "stdout",
     "output_type": "stream",
     "text": [
      "MD = 2.3076923\n",
      "NP = 4.6153846\n",
      "PA = 3.0769231\n"
     ]
    }
   ],
   "source": [
    "# print the results\n",
    "for variable in prob.variables():\n",
    "    print(f\"{variable.name} = {variable.varValue}\")"
   ]
  },
  {
   "cell_type": "code",
   "execution_count": 9,
   "id": "801c2eeb",
   "metadata": {},
   "outputs": [
    {
     "name": "stdout",
     "output_type": "stream",
     "text": [
      "Objective = 1161538.461\n",
      "\n"
     ]
    }
   ],
   "source": [
    "print(f\"Objective = {value(prob.objective)}\")\n",
    "print(f\"\")"
   ]
  }
 ],
 "metadata": {
  "kernelspec": {
   "display_name": "Python 3 (ipykernel)",
   "language": "python",
   "name": "python3"
  },
  "language_info": {
   "codemirror_mode": {
    "name": "ipython",
    "version": 3
   },
   "file_extension": ".py",
   "mimetype": "text/x-python",
   "name": "python",
   "nbconvert_exporter": "python",
   "pygments_lexer": "ipython3",
   "version": "3.9.7"
  }
 },
 "nbformat": 4,
 "nbformat_minor": 5
}
