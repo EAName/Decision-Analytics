{
 "cells": [
  {
   "cell_type": "code",
   "execution_count": 1,
   "id": "dd45ce9b",
   "metadata": {},
   "outputs": [],
   "source": [
    "# import pulp\n",
    "from pulp import LpVariable, LpProblem, LpMaximize, LpStatus, value, LpMinimize\n",
    "\n",
    "# Problem 1\n",
    "# define variables\n",
    "Tables = LpVariable(\"Tables\", 0, None) # Tables>=0\n",
    "Chairs = LpVariable(\"Chairs\", 0, None) # Chairs>=0"
   ]
  },
  {
   "cell_type": "code",
   "execution_count": 2,
   "id": "a1f7f8d1",
   "metadata": {},
   "outputs": [],
   "source": [
    "# defines the problem\n",
    "prob = LpProblem(\"problem\", LpMaximize)\n",
    "# Note, LpMaximize for a maximization problem, \n",
    "# and LpMinimize for a minimization problem"
   ]
  },
  {
   "cell_type": "code",
   "execution_count": 3,
   "id": "ba886df5",
   "metadata": {},
   "outputs": [],
   "source": [
    "# define constraints\n",
    "prob += 2*Tables    +  1*Chairs    <= 12\n",
    "prob += 2*Tables    +  2*Chairs    <= 18\n",
    "# Note, if <= then <=\n",
    "# If >= then >=\n",
    "# If = then =="
   ]
  },
  {
   "cell_type": "code",
   "execution_count": 4,
   "id": "c3b1de41",
   "metadata": {},
   "outputs": [],
   "source": [
    "# define objective function\n",
    "prob += 16*Tables   + 10*Chairs"
   ]
  },
  {
   "cell_type": "code",
   "execution_count": 5,
   "id": "91c9c453",
   "metadata": {},
   "outputs": [
    {
     "name": "stdout",
     "output_type": "stream",
     "text": [
      "Welcome to the CBC MILP Solver \n",
      "Version: 2.10.3 \n",
      "Build Date: Dec 15 2019 \n",
      "\n",
      "command line - /Users/edwinsalguero/opt/anaconda3/lib/python3.9/site-packages/pulp/apis/../solverdir/cbc/osx/64/cbc /var/folders/8m/hr59h6j137s903vyt2l8hr7r0000gn/T/a7bffcd38bd8435cb81a2ab078be77da-pulp.mps max timeMode elapsed branch printingOptions all solution /var/folders/8m/hr59h6j137s903vyt2l8hr7r0000gn/T/a7bffcd38bd8435cb81a2ab078be77da-pulp.sol (default strategy 1)\n",
      "At line 2 NAME          MODEL\n",
      "At line 3 ROWS\n",
      "At line 7 COLUMNS\n",
      "At line 14 RHS\n",
      "At line 17 BOUNDS\n",
      "At line 18 ENDATA\n",
      "Problem MODEL has 2 rows, 2 columns and 4 elements\n",
      "Coin0008I MODEL read with 0 errors\n",
      "Option for timeMode changed from cpu to elapsed\n",
      "Presolve 2 (0) rows, 2 (0) columns and 4 (0) elements\n",
      "0  Obj -0 Dual inf 26 (2)\n",
      "0  Obj -0 Dual inf 26 (2)\n",
      "2  Obj 108\n",
      "Optimal - objective value 108\n",
      "Optimal objective 108 - 2 iterations time 0.002\n",
      "Option for printingOptions changed from normal to all\n",
      "Total time (CPU seconds):       0.00   (Wallclock seconds):       0.01\n",
      "\n",
      "Problem 1\n",
      "status=Optimal\n"
     ]
    }
   ],
   "source": [
    "# solve the problem\n",
    "status = prob.solve()\n",
    "print(f\"Problem 1\")\n",
    "print(f\"status={LpStatus[status]}\")"
   ]
  },
  {
   "cell_type": "code",
   "execution_count": 6,
   "id": "209c4f39",
   "metadata": {},
   "outputs": [
    {
     "name": "stdout",
     "output_type": "stream",
     "text": [
      "Chairs = 6.0\n",
      "Tables = 3.0\n"
     ]
    }
   ],
   "source": [
    "# print the results\n",
    "for variable in prob.variables():\n",
    "    print(f\"{variable.name} = {variable.varValue}\")"
   ]
  },
  {
   "cell_type": "code",
   "execution_count": 7,
   "id": "ce28fb86",
   "metadata": {},
   "outputs": [
    {
     "name": "stdout",
     "output_type": "stream",
     "text": [
      "Objective = 108.0\n",
      "\n"
     ]
    }
   ],
   "source": [
    "print(f\"Objective = {value(prob.objective)}\")\n",
    "print(f\"\")"
   ]
  },
  {
   "cell_type": "code",
   "execution_count": 8,
   "id": "1db5f639",
   "metadata": {},
   "outputs": [],
   "source": [
    "# Problem 2\n",
    "# define variables\n",
    "Tables = LpVariable(\"Tables\", 0, None) # Tables>=0\n",
    "Chairs = LpVariable(\"Chairs\", 0, None) # Chairs>=0\n",
    "Coffee = LpVariable(\"Coffee\", 0, None) # Coffee>=0"
   ]
  }
 ],
 "metadata": {
  "kernelspec": {
   "display_name": "Python 3 (ipykernel)",
   "language": "python",
   "name": "python3"
  },
  "language_info": {
   "codemirror_mode": {
    "name": "ipython",
    "version": 3
   },
   "file_extension": ".py",
   "mimetype": "text/x-python",
   "name": "python",
   "nbconvert_exporter": "python",
   "pygments_lexer": "ipython3",
   "version": "3.9.7"
  }
 },
 "nbformat": 4,
 "nbformat_minor": 5
}
