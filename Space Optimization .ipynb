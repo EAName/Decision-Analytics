{
 "cells": [
  {
   "cell_type": "code",
   "execution_count": 1,
   "id": "dd77ed8d",
   "metadata": {},
   "outputs": [
    {
     "name": "stdout",
     "output_type": "stream",
     "text": [
      "Problem\n",
      "status=Optimal\n",
      "Bedroom_Set = 0.0\n",
      "Dining_Room_Set = 1.0\n",
      "Gaming_Computer = 0.0\n",
      "Sofa = 1.0\n",
      "Television = 0.0\n",
      "Objective = 79.0\n",
      "\n"
     ]
    }
   ],
   "source": [
    "from pulp import LpVariable, LpProblem, LpMaximize, LpStatus, value, LpMinimize\n",
    "\n",
    "# Problem (Knapsack Initial)\n",
    "# define variables\n",
    "Bedroom_Set = LpVariable(\"Bedroom_Set\", 0, 1, cat = 'Integer')\n",
    "Dining_Room_Set = LpVariable(\"Dining_Room_Set\", 0, 1, cat = 'Integer')\n",
    "Gaming_Computer = LpVariable(\"Gaming_Computer\", 0, 1, cat = 'Integer')\n",
    "Sofa = LpVariable(\"Sofa\", 0, 1, cat = 'Integer')\n",
    "Television = LpVariable(\"Television\", 0, 1, cat = 'Integer')\n",
    "#x1 = Bedroom Set\n",
    "#x2 = Dining Room Set\n",
    "#x3 = Gaming Computer\n",
    "#x4 = Sofa\n",
    "#x5 = Television\n",
    "# defines the problem\n",
    "prob = LpProblem(\"problem\", LpMaximize)\n",
    "# Note, LpMaximize for a maximization problem, \n",
    "# and LpMinimize for a minimization problem\n",
    "\n",
    "# define constraints\n",
    "prob += 800*Bedroom_Set + 600*Dining_Room_Set + 300*Gaming_Computer + 400*Sofa + 200*Television  <= 1100\n",
    "\n",
    "# Note, if <= then <=\n",
    "# If >= then >=\n",
    "# If = then ==\n",
    "\n",
    "# define objective function\n",
    "prob += 60*Bedroom_Set + 48*Dining_Room_Set + 14*Gaming_Computer + 31*Sofa + 13*Television \n",
    "\n",
    "# solve the problem\n",
    "status = prob.solve()\n",
    "print(f\"Problem\")\n",
    "print(f\"status={LpStatus[status]}\")\n",
    "\n",
    "# print the results\n",
    "for variable in prob.variables():\n",
    "    print(f\"{variable.name} = {variable.varValue}\")\n",
    "    \n",
    "print(f\"Objective = {value(prob.objective)}\")\n",
    "print(f\"\")\n"
   ]
  }
 ],
 "metadata": {
  "kernelspec": {
   "display_name": "Python 3 (ipykernel)",
   "language": "python",
   "name": "python3"
  },
  "language_info": {
   "codemirror_mode": {
    "name": "ipython",
    "version": 3
   },
   "file_extension": ".py",
   "mimetype": "text/x-python",
   "name": "python",
   "nbconvert_exporter": "python",
   "pygments_lexer": "ipython3",
   "version": "3.9.7"
  }
 },
 "nbformat": 4,
 "nbformat_minor": 5
}
